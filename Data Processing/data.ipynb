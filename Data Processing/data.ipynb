{
 "metadata": {
  "language_info": {
   "codemirror_mode": {
    "name": "ipython",
    "version": 3
   },
   "file_extension": ".py",
   "mimetype": "text/x-python",
   "name": "python",
   "nbconvert_exporter": "python",
   "pygments_lexer": "ipython3",
   "version": "3.7.10-final"
  },
  "orig_nbformat": 2,
  "kernelspec": {
   "name": "python3",
   "display_name": "Python 3",
   "language": "python"
  }
 },
 "nbformat": 4,
 "nbformat_minor": 2,
 "cells": [
  {
   "cell_type": "code",
   "execution_count": null,
   "metadata": {},
   "outputs": [],
   "source": [
    "# US streets Graph data"
   ]
  },
  {
   "cell_type": "code",
   "execution_count": 1,
   "metadata": {},
   "outputs": [],
   "source": [
    "import cudf"
   ]
  },
  {
   "cell_type": "code",
   "execution_count": 2,
   "metadata": {},
   "outputs": [],
   "source": [
    "DATA_DIR = \"../data/\""
   ]
  },
  {
   "cell_type": "code",
   "execution_count": 6,
   "metadata": {},
   "outputs": [
    {
     "output_type": "execute_result",
     "data": {
      "text/plain": [
       "                    x          y      vertex\n",
       "0          -86.433247  32.456082    51579274\n",
       "1          -86.433142  32.455951    51579275\n",
       "2          -86.433032  32.455838    51579277\n",
       "3          -86.432973  32.455787    51579279\n",
       "4          -86.432909  32.455739    51579281\n",
       "...               ...        ...         ...\n",
       "228548124 -105.517261  44.246595  8143811876\n",
       "228548125 -105.517258  44.246926  8143811877\n",
       "228548126 -105.524050  44.247029  7556741242\n",
       "228548127 -105.525864  44.246510  8143867625\n",
       "228548128 -105.529342  44.246805  8143867626\n",
       "\n",
       "[228548129 rows x 3 columns]"
      ],
      "text/html": "<div>\n<style scoped>\n    .dataframe tbody tr th:only-of-type {\n        vertical-align: middle;\n    }\n\n    .dataframe tbody tr th {\n        vertical-align: top;\n    }\n\n    .dataframe thead th {\n        text-align: right;\n    }\n</style>\n<table border=\"1\" class=\"dataframe\">\n  <thead>\n    <tr style=\"text-align: right;\">\n      <th></th>\n      <th>x</th>\n      <th>y</th>\n      <th>vertex</th>\n    </tr>\n  </thead>\n  <tbody>\n    <tr>\n      <th>0</th>\n      <td>-86.433247</td>\n      <td>32.456082</td>\n      <td>51579274</td>\n    </tr>\n    <tr>\n      <th>1</th>\n      <td>-86.433142</td>\n      <td>32.455951</td>\n      <td>51579275</td>\n    </tr>\n    <tr>\n      <th>2</th>\n      <td>-86.433032</td>\n      <td>32.455838</td>\n      <td>51579277</td>\n    </tr>\n    <tr>\n      <th>3</th>\n      <td>-86.432973</td>\n      <td>32.455787</td>\n      <td>51579279</td>\n    </tr>\n    <tr>\n      <th>4</th>\n      <td>-86.432909</td>\n      <td>32.455739</td>\n      <td>51579281</td>\n    </tr>\n    <tr>\n      <th>...</th>\n      <td>...</td>\n      <td>...</td>\n      <td>...</td>\n    </tr>\n    <tr>\n      <th>228548124</th>\n      <td>-105.517261</td>\n      <td>44.246595</td>\n      <td>8143811876</td>\n    </tr>\n    <tr>\n      <th>228548125</th>\n      <td>-105.517258</td>\n      <td>44.246926</td>\n      <td>8143811877</td>\n    </tr>\n    <tr>\n      <th>228548126</th>\n      <td>-105.524050</td>\n      <td>44.247029</td>\n      <td>7556741242</td>\n    </tr>\n    <tr>\n      <th>228548127</th>\n      <td>-105.525864</td>\n      <td>44.246510</td>\n      <td>8143867625</td>\n    </tr>\n    <tr>\n      <th>228548128</th>\n      <td>-105.529342</td>\n      <td>44.246805</td>\n      <td>8143867626</td>\n    </tr>\n  </tbody>\n</table>\n<p>228548129 rows × 3 columns</p>\n</div>"
     },
     "metadata": {},
     "execution_count": 6
    }
   ],
   "source": [
    "nodes = cudf.read_parquet(f\"{DATA_DIR}us-nodes.parquet\")\n",
    "nodes"
   ]
  },
  {
   "cell_type": "code",
   "execution_count": 5,
   "metadata": {},
   "outputs": [
    {
     "output_type": "execute_result",
     "data": {
      "text/plain": [
       "                  src         dst  length\n",
       "0            51579274    51579275  17.585\n",
       "1            51579275    51579277  16.260\n",
       "2            51579277    51579279   7.925\n",
       "3            51579279    51579281   8.034\n",
       "4            51579281    51579283   7.966\n",
       "...               ...         ...     ...\n",
       "240373954  8143811876  2666164285  17.437\n",
       "240373955  2666164285  8143811877  19.304\n",
       "240373956  7556741243  7556741242  20.132\n",
       "240373957  2666164274  8143867625  18.975\n",
       "240373958  1536524340  8143867626  18.842\n",
       "\n",
       "[240373959 rows x 3 columns]"
      ],
      "text/html": "<div>\n<style scoped>\n    .dataframe tbody tr th:only-of-type {\n        vertical-align: middle;\n    }\n\n    .dataframe tbody tr th {\n        vertical-align: top;\n    }\n\n    .dataframe thead th {\n        text-align: right;\n    }\n</style>\n<table border=\"1\" class=\"dataframe\">\n  <thead>\n    <tr style=\"text-align: right;\">\n      <th></th>\n      <th>src</th>\n      <th>dst</th>\n      <th>length</th>\n    </tr>\n  </thead>\n  <tbody>\n    <tr>\n      <th>0</th>\n      <td>51579274</td>\n      <td>51579275</td>\n      <td>17.585</td>\n    </tr>\n    <tr>\n      <th>1</th>\n      <td>51579275</td>\n      <td>51579277</td>\n      <td>16.260</td>\n    </tr>\n    <tr>\n      <th>2</th>\n      <td>51579277</td>\n      <td>51579279</td>\n      <td>7.925</td>\n    </tr>\n    <tr>\n      <th>3</th>\n      <td>51579279</td>\n      <td>51579281</td>\n      <td>8.034</td>\n    </tr>\n    <tr>\n      <th>4</th>\n      <td>51579281</td>\n      <td>51579283</td>\n      <td>7.966</td>\n    </tr>\n    <tr>\n      <th>...</th>\n      <td>...</td>\n      <td>...</td>\n      <td>...</td>\n    </tr>\n    <tr>\n      <th>240373954</th>\n      <td>8143811876</td>\n      <td>2666164285</td>\n      <td>17.437</td>\n    </tr>\n    <tr>\n      <th>240373955</th>\n      <td>2666164285</td>\n      <td>8143811877</td>\n      <td>19.304</td>\n    </tr>\n    <tr>\n      <th>240373956</th>\n      <td>7556741243</td>\n      <td>7556741242</td>\n      <td>20.132</td>\n    </tr>\n    <tr>\n      <th>240373957</th>\n      <td>2666164274</td>\n      <td>8143867625</td>\n      <td>18.975</td>\n    </tr>\n    <tr>\n      <th>240373958</th>\n      <td>1536524340</td>\n      <td>8143867626</td>\n      <td>18.842</td>\n    </tr>\n  </tbody>\n</table>\n<p>240373959 rows × 3 columns</p>\n</div>"
     },
     "metadata": {},
     "execution_count": 5
    }
   ],
   "source": [
    "edges = cudf.read_parquet(f\"{DATA_DIR}us-edges.parquet\")\n",
    "edges"
   ]
  }
 ]
}