{
 "cells": [
  {
   "cell_type": "code",
   "execution_count": 1,
   "metadata": {},
   "outputs": [],
   "source": [
    "import cudf"
   ]
  },
  {
   "cell_type": "code",
   "execution_count": 2,
   "metadata": {},
   "outputs": [],
   "source": [
    "from constants import list_of_states"
   ]
  },
  {
   "cell_type": "code",
   "execution_count": 3,
   "metadata": {},
   "outputs": [],
   "source": [
    "nodes_df = []\n",
    "edges_df = []\n",
    "DATA_DIR = \"../data/\""
   ]
  },
  {
   "cell_type": "code",
   "execution_count": 4,
   "metadata": {},
   "outputs": [],
   "source": [
    "for state in list_of_states:\n",
    "    nodes_df.append(cudf.read_parquet(f\"{DATA_DIR}{state}-nodes.parquet\"))\n",
    "    edges_df.append(cudf.read_parquet(f\"{DATA_DIR}{state}-edges.parquet\"))"
   ]
  },
  {
   "cell_type": "code",
   "execution_count": 6,
   "metadata": {},
   "outputs": [],
   "source": [
    "nodes = cudf.concat(nodes_df)"
   ]
  },
  {
   "cell_type": "code",
   "execution_count": 7,
   "metadata": {},
   "outputs": [
    {
     "data": {
      "text/html": [
       "<div>\n",
       "<style scoped>\n",
       "    .dataframe tbody tr th:only-of-type {\n",
       "        vertical-align: middle;\n",
       "    }\n",
       "\n",
       "    .dataframe tbody tr th {\n",
       "        vertical-align: top;\n",
       "    }\n",
       "\n",
       "    .dataframe thead th {\n",
       "        text-align: right;\n",
       "    }\n",
       "</style>\n",
       "<table border=\"1\" class=\"dataframe\">\n",
       "  <thead>\n",
       "    <tr style=\"text-align: right;\">\n",
       "      <th></th>\n",
       "      <th>x</th>\n",
       "      <th>y</th>\n",
       "      <th>vertex</th>\n",
       "    </tr>\n",
       "  </thead>\n",
       "  <tbody>\n",
       "    <tr>\n",
       "      <th>0</th>\n",
       "      <td>-86.433247</td>\n",
       "      <td>32.456082</td>\n",
       "      <td>51579274</td>\n",
       "    </tr>\n",
       "    <tr>\n",
       "      <th>1</th>\n",
       "      <td>-86.433142</td>\n",
       "      <td>32.455951</td>\n",
       "      <td>51579275</td>\n",
       "    </tr>\n",
       "    <tr>\n",
       "      <th>2</th>\n",
       "      <td>-86.433032</td>\n",
       "      <td>32.455838</td>\n",
       "      <td>51579277</td>\n",
       "    </tr>\n",
       "    <tr>\n",
       "      <th>3</th>\n",
       "      <td>-86.432973</td>\n",
       "      <td>32.455787</td>\n",
       "      <td>51579279</td>\n",
       "    </tr>\n",
       "    <tr>\n",
       "      <th>4</th>\n",
       "      <td>-86.432909</td>\n",
       "      <td>32.455739</td>\n",
       "      <td>51579281</td>\n",
       "    </tr>\n",
       "    <tr>\n",
       "      <th>...</th>\n",
       "      <td>...</td>\n",
       "      <td>...</td>\n",
       "      <td>...</td>\n",
       "    </tr>\n",
       "    <tr>\n",
       "      <th>1385720</th>\n",
       "      <td>-105.517261</td>\n",
       "      <td>44.246595</td>\n",
       "      <td>8143811876</td>\n",
       "    </tr>\n",
       "    <tr>\n",
       "      <th>1385721</th>\n",
       "      <td>-105.517258</td>\n",
       "      <td>44.246926</td>\n",
       "      <td>8143811877</td>\n",
       "    </tr>\n",
       "    <tr>\n",
       "      <th>1385722</th>\n",
       "      <td>-105.524050</td>\n",
       "      <td>44.247029</td>\n",
       "      <td>7556741242</td>\n",
       "    </tr>\n",
       "    <tr>\n",
       "      <th>1385723</th>\n",
       "      <td>-105.525864</td>\n",
       "      <td>44.246510</td>\n",
       "      <td>8143867625</td>\n",
       "    </tr>\n",
       "    <tr>\n",
       "      <th>1385724</th>\n",
       "      <td>-105.529342</td>\n",
       "      <td>44.246805</td>\n",
       "      <td>8143867626</td>\n",
       "    </tr>\n",
       "  </tbody>\n",
       "</table>\n",
       "<p>228548129 rows × 3 columns</p>\n",
       "</div>"
      ],
      "text/plain": [
       "                  x          y      vertex\n",
       "0        -86.433247  32.456082    51579274\n",
       "1        -86.433142  32.455951    51579275\n",
       "2        -86.433032  32.455838    51579277\n",
       "3        -86.432973  32.455787    51579279\n",
       "4        -86.432909  32.455739    51579281\n",
       "...             ...        ...         ...\n",
       "1385720 -105.517261  44.246595  8143811876\n",
       "1385721 -105.517258  44.246926  8143811877\n",
       "1385722 -105.524050  44.247029  7556741242\n",
       "1385723 -105.525864  44.246510  8143867625\n",
       "1385724 -105.529342  44.246805  8143867626\n",
       "\n",
       "[228548129 rows x 3 columns]"
      ]
     },
     "execution_count": 7,
     "metadata": {},
     "output_type": "execute_result"
    }
   ],
   "source": [
    "nodes"
   ]
  },
  {
   "cell_type": "code",
   "execution_count": 8,
   "metadata": {},
   "outputs": [],
   "source": [
    "del(nodes_df)"
   ]
  },
  {
   "cell_type": "code",
   "execution_count": 9,
   "metadata": {},
   "outputs": [],
   "source": [
    "edges = cudf.concat(edges_df)"
   ]
  },
  {
   "cell_type": "code",
   "execution_count": 10,
   "metadata": {},
   "outputs": [],
   "source": [
    "del(edges_df)"
   ]
  },
  {
   "cell_type": "code",
   "execution_count": 11,
   "metadata": {},
   "outputs": [],
   "source": [
    "nodes.to_parquet(f\"{DATA_DIR}us-nodes.parquet\")"
   ]
  },
  {
   "cell_type": "code",
   "execution_count": 12,
   "metadata": {},
   "outputs": [],
   "source": [
    "edges.to_parquet(f\"{DATA_DIR}us-edges.parquet\")"
   ]
  },
  {
   "cell_type": "code",
   "execution_count": null,
   "metadata": {},
   "outputs": [],
   "source": []
  }
 ],
 "metadata": {
  "kernelspec": {
   "display_name": "Python 3",
   "language": "python",
   "name": "python3"
  },
  "language_info": {
   "codemirror_mode": {
    "name": "ipython",
    "version": 3
   },
   "file_extension": ".py",
   "mimetype": "text/x-python",
   "name": "python",
   "nbconvert_exporter": "python",
   "pygments_lexer": "ipython3",
   "version": "3.8.6"
  }
 },
 "nbformat": 4,
 "nbformat_minor": 4
}
