{
 "cells": [
  {
   "cell_type": "code",
   "execution_count": 1,
   "metadata": {},
   "outputs": [],
   "source": [
    "import cudf\n",
    "import dask_cudf\n",
    "import cugraph\n",
    "import cuspatial\n",
    "import math\n",
    "import geopy\n",
    "import geopandas as gpd\n",
    "from shapely.geometry import Point\n",
    "from dask import delayed\n",
    "import json\n",
    "from geopy.geocoders import Nominatim\n",
    "import dash_leaflet as dl\n",
    "geolocator = Nominatim(user_agent=\"test_app\")\n",
    "DATA_DIR = \"../data/\""
   ]
  },
  {
   "cell_type": "code",
   "execution_count": 2,
   "metadata": {},
   "outputs": [],
   "source": [
    "import dash\n",
    "import dash_core_components as dcc\n",
    "import dash_html_components as html\n",
    "import plotly.express as px\n",
    "from jupyter_dash import JupyterDash\n",
    "import dash_leaflet.express as dlx\n",
    "import pandas as pd\n",
    "from dash_extensions.javascript import Namespace, arrow_function\n",
    "from dash.dependencies import Input, Output"
   ]
  },
  {
   "cell_type": "code",
   "execution_count": 3,
   "metadata": {},
   "outputs": [],
   "source": [
    "census_data = dask_cudf.read_parquet('../../plotly/plotly-dash-rapids-census-demo/data/census_data.parquet/')\n",
    "nodes_df = cudf.read_parquet(f'{DATA_DIR}us-nodes.parquet')\n",
    "edges_df = cudf.read_parquet(f'{DATA_DIR}us-edges.parquet')"
   ]
  },
  {
   "cell_type": "code",
   "execution_count": 4,
   "metadata": {},
   "outputs": [],
   "source": [
    "nodes_df.head(1000).to_parquet(f'{DATA_DIR}us-nodes-lite.parquet')"
   ]
  },
  {
   "cell_type": "code",
   "execution_count": 5,
   "metadata": {},
   "outputs": [],
   "source": [
    "edges_df.head(1000).to_parquet(f'{DATA_DIR}us-edges-lite.parquet')"
   ]
  },
  {
   "cell_type": "code",
   "execution_count": 4,
   "metadata": {},
   "outputs": [
    {
     "data": {
      "text/plain": [
       "dask_cudf.core.DataFrame"
      ]
     },
     "execution_count": 4,
     "metadata": {},
     "output_type": "execute_result"
    }
   ],
   "source": [
    "type(census_data)"
   ]
  },
  {
   "cell_type": "code",
   "execution_count": 6,
   "metadata": {},
   "outputs": [
    {
     "data": {
      "text/plain": [
       "True"
      ]
     },
     "execution_count": 6,
     "metadata": {},
     "output_type": "execute_result"
    }
   ],
   "source": [
    "isinstance(census_data, dask_cudf.core.DataFrame)"
   ]
  },
  {
   "cell_type": "code",
   "execution_count": 4,
   "metadata": {},
   "outputs": [],
   "source": [
    "def createCircleAroundWithRadius(lat, lon, radiusMiles):\n",
    "    latArray = []\n",
    "    lonArray = []\n",
    "\n",
    "    for brng in range(0,360):\n",
    "        lat2, lon2 = getLocation(lat,lon,brng,radiusMiles)\n",
    "        latArray.append(lat2)\n",
    "        lonArray.append(lon2)\n",
    "\n",
    "    return lonArray,latArray\n",
    "\n",
    "\n",
    "def getLocation(lat1, lon1, brng, distanceMiles):\n",
    "    lat1 = lat1 * math.pi/ 180.0\n",
    "    lon1 = lon1 * math.pi / 180.0\n",
    "    #earth radius\n",
    "    #R = 6378.1Km\n",
    "    #R = ~ 3959 MilesR = 3959\n",
    "    R = 3959\n",
    "\n",
    "    distanceMiles = distanceMiles/R\n",
    "\n",
    "    brng = (brng / 90)* math.pi / 2\n",
    "\n",
    "    lat2 = math.asin(math.sin(lat1) * math.cos(distanceMiles) \n",
    "    + math.cos(lat1) * math.sin(distanceMiles) * math.cos(brng))\n",
    "\n",
    "    lon2 = lon1 + math.atan2(math.sin(brng)*math.sin(distanceMiles)\n",
    "    * math.cos(lat1),math.cos(distanceMiles)-math.sin(lat1)*math.sin(lat2))\n",
    "\n",
    "    lon2 = 180.0 * lon2/ math.pi\n",
    "    lat2 = 180.0 * lat2/ math.pi\n",
    "\n",
    "    return lat2, lon2"
   ]
  },
  {
   "cell_type": "code",
   "execution_count": 5,
   "metadata": {},
   "outputs": [],
   "source": [
    "def get_updated_df(lat,lon, nodes_df):\n",
    "#     nodes_df = cudf.read_parquet(f'{DATA_DIR}us-nodes.parquet')\n",
    "    results = cuspatial.point_in_polygon(nodes_df.x, nodes_df.y, cudf.Series([0], index=[\"selection\"]), [0], lat, lon)\n",
    "    return nodes_df[results.selection]\n",
    "\n",
    "def get_updated_edges(nodes, edges):\n",
    "#     edges = cudf.read_parquet(f'{DATA_DIR}us-edges.parquet')\n",
    "    indices = cudf.logical_and(\n",
    "        edges.src.isin(nodes.vertex), edges.dst.isin(nodes.vertex),\n",
    "    )\n",
    "    return edges[indices]\n",
    "\n",
    "def get_shortest_paths(edges_df, point_of_interest):\n",
    "    G_gpu = cugraph.Graph()\n",
    "    G_gpu.from_cudf_edgelist(edges_df, source='src', destination='dst', edge_attr='time')\n",
    "    shortest_paths = cugraph.traversal.sssp(G_gpu, point_of_interest)\n",
    "    shortest_paths = shortest_paths.drop('predecessor', axis=1)\n",
    "    shortest_paths.columns = ['time', 'vertex']\n",
    "    return shortest_paths\n",
    "\n",
    "def get_nearest_node(gdf, point, x='x', y='y', osmid='osmid'):\n",
    "    gdf = gdf\n",
    "    gdf['point_y'] = point[0\n",
    "    @app.callback(\n",
    "        [\n",
    "            Output('indicator-graph', 'figure'),\n",
    "            Output(\"layer\", \"children\"), Output(\"polygons\", \"data\"),\n",
    "            Output(\"scatter-population\", \"data\"),\n",
    "\n",
    "            # Output('education-histogram', 'figure'),\n",
    "            # Output('income-histogram', 'figure'),\n",
    "            # Output('cow-histogram', 'figure'),\n",
    "            # Output('age-histogram', 'figure'),\n",
    "\n",
    "            # Output('education-histogram', 'config'),\n",
    "            # Output('income-histogram', 'config'),\n",
    "            # Output('cow-histogram', 'config'),\n",
    "            # Output('age-histogram', 'config')\n",
    "        ],\n",
    "        [\n",
    "            Input(\"map-graph\", \"click_lat_lng\"), Input('average-speed', 'value'),\n",
    "            Input('colorscale-dropdown', 'value'), Input('gpu-toggle', 'on')\n",
    "        ]\n",
    "    )\n",
    "    def update_plots(\n",
    "            click_lat_lng, average_speed, colorscale_name, gpu_enabled\n",
    "    ):\n",
    "        global census_data, cudf_nodes, cudf_edges\n",
    "\n",
    "        t0 = time.time()\n",
    "\n",
    "        if click_lat_lng is not None:\n",
    "            lat, lon = click_lat_lng\n",
    "            marker = dl.Marker(position=click_lat_lng, children=dl.Tooltip(\"({:.3f}, {:.3f})\".format(*click_lat_lng)))\n",
    "\n",
    "            polygons, df = get_nearest_polygons_from_selected_point(lat, lon, average_speed, cudf_nodes, cudf_edges, census_data)\n",
    "            polygon_data = json.loads(polygons.to_json())\n",
    "            scatter_data = get_data(df.head(200_000))\n",
    "        else:\n",
    "            marker, polygon_data, scatter_data, df = None, None, None, None\n",
    "\n",
    "        if df == None:\n",
    "            len_df = len(census_data)\n",
    "        else:\n",
    "            len_df = len(df)\n",
    "        # if isinstance(df_d, dask_cudf.core.DataFrame):\n",
    "        #     df_d = df_d.compute()\n",
    "\n",
    "        # figures_d = delayed(build_updated_figures)(df_d, colorscale_name)\n",
    "\n",
    "        # figures = figures_d.compute()\n",
    "\n",
    "        # (education_histogram, income_histogram,\n",
    "        #  cow_histogram, age_histogram, n_selected_indicator) = figures\n",
    "\n",
    "        # barchart_config = {\n",
    "        #     'displayModeBar': True,\n",
    "\n",
    "        #     'modeBarButtonsToRemove': [\n",
    "        #         'zoom2d', 'pan2d', 'select2d', 'lasso2d', 'zoomIn2d', 'zoomOut2d',\n",
    "        #         'resetScale2d', 'hoverClosestCartesian', 'hoverCompareCartesian', 'toggleSpikelines'\n",
    "        #     ]\n",
    "        # }\n",
    "        n_selected_indicator = {\n",
    "            'data': [{\n",
    "                'domain': {\n",
    "                    'x': [0, 0.5], 'y': [0, 0.5]\n",
    "                },\n",
    "                'title': {'text': 'Query Result'},\n",
    "                'type': 'indicator',\n",
    "                'value': len_df,\n",
    "                'number': {\n",
    "                    'font': {\n",
    "                        'color': text_color,\n",
    "                        'size': '50px'\n",
    "                    },\n",
    "                    \"valueformat\": \",\"\n",
    "                }\n",
    "            }],\n",
    "            'layout': {\n",
    "                'template': template,\n",
    "                'height': row_heights[3],\n",
    "                'margin': {'l': 10, 'r': 10, 't': 10, 'b': 10}\n",
    "            }\n",
    "        }\n",
    "        compute_time = time.time() - t0\n",
    "        print(f\"Update time: {compute_time}\")\n",
    "        n_selected_indicator['data'].append({\n",
    "            'title': {\"text\": \"Query Time\"},\n",
    "            'type': 'indicator',\n",
    "            'value': round(compute_time, 4),\n",
    "            'domain': {'x': [0.51, 1], 'y': [0, 0.5]},\n",
    "            'number': {\n",
    "                'font': {\n",
    "                    'color': text_color,\n",
    "                    'size': '50px'\n",
    "                },\n",
    "                'suffix': \"s\"\n",
    "            }\n",
    "        })\n",
    "        return (\n",
    "            n_selected_indicator,\n",
    "            marker, polygon_data, scatter_data,\n",
    "            # education_histogram, income_histogram, cow_histogram, age_histogram,\n",
    "            # barchart_config, barchart_config, barchart_config, barchart_config,\n",
    "        )\n",
    "]\n",
    "    gdf['point_x'] = point[1]\n",
    "    gdf['distance'] = cuspatial.haversine_distance(gdf[y], gdf[x], \n",
    "                                                             gdf['point_y'], gdf['point_x'])\n",
    "    mask = gdf['distance'] == gdf['distance'].min()\n",
    "    nearest_node = gdf[mask][osmid].values[0]\n",
    "    gdf.drop(['point_y', 'point_x', 'distance'], axis=1, inplace=True)\n",
    "    return nearest_node\n",
    "\n",
    "def get_polygons_for_travel_time(results, trip_times):\n",
    "    for trip_time in trip_times:\n",
    "        results['within_' + str(trip_time)] = 1.0 * (results['time'] < trip_time)\n",
    "\n",
    "    # make the isochrone polygons\n",
    "    isochrone_polys = []\n",
    "    for trip_time in sorted(trip_times, reverse=True):\n",
    "        mask = results['within_' + str(trip_time)] == 1\n",
    "        subset = results[mask].to_pandas()\n",
    "        node_points = gpd.points_from_xy(subset.x, subset.y)\n",
    "        bounding_poly = gpd.GeoSeries(node_points).unary_union.convex_hull  # TODO use cuspatial\n",
    "        isochrone_polys.append(bounding_poly)\n",
    "    return isochrone_polys\n",
    "\n",
    "from pyproj import Proj, Transformer"
   ]
  },
  {
   "cell_type": "code",
   "execution_count": 6,
   "metadata": {},
   "outputs": [],
   "source": [
    "def query_census_dataset(polygons, census_data):\n",
    "    final_polygon = polygons[0]\n",
    "    for i in polygons:\n",
    "        final_polygon = final_polygon.union(i)\n",
    "    lat, lon = final_polygon.exterior.coords.xy\n",
    "    transform_4326_to_3857 = Transformer.from_crs('epsg:4326', 'epsg:3857')\n",
    "    lon, lat = transform_4326_to_3857.transform(lon, lat)\n",
    "    results = cuspatial.point_in_polygon(census_data.x, census_data.y, cudf.Series([0], index=[\"selection\"]), [0], lon, lat)\n",
    "    return census_data[results.selection]"
   ]
  },
  {
   "cell_type": "code",
   "execution_count": 7,
   "metadata": {},
   "outputs": [],
   "source": [
    "def get_data(df, color_prop=\"income\"):\n",
    "    print(df)\n",
    "    if len(df)>0:\n",
    "        transform_3857_to_4326 = Transformer.from_crs('epsg:3857', 'epsg:4326')\n",
    "        df['lat'], df['lon'] = transform_3857_to_4326.transform(df.x.to_array(), df.y.to_array())\n",
    "        df = df[['lat', 'lon', 'sex', 'education', 'income']]  # drop irrelevant columns\n",
    "        if isinstance(df, cudf.DataFrame):\n",
    "            dicts = df.to_pandas().to_dict('rows')\n",
    "        else:\n",
    "            dicts = df.to_dict('rows')\n",
    "        for item in dicts:\n",
    "            item[\"tooltip\"] = \"{:.1f}\".format(item[color_prop])  # bind tooltip\n",
    "            item[\"popup\"] = item[\"income\"]  # bind popup\n",
    "        geojson = dlx.dicts_to_geojson(dicts, lat=\"lat\",lon=\"lon\")  # convert to geojson\n",
    "#         geobuf = dlx.geojson_to_geobuf(geojson)  # convert to geobuf\n",
    "        return geojson\n",
    "    return ''"
   ]
  },
  {
   "cell_type": "code",
   "execution_count": 8,
   "metadata": {},
   "outputs": [],
   "source": [
    "distanceInMiles = 30\n",
    "trip_times = [5, 10, 15, 30, 60]\n",
    "\n",
    "def get_nearest_polygons_from_selected_point(point_lat, point_lon, average_speed):\n",
    "    lat, lon =  createCircleAroundWithRadius(point_lat, point_lon, distanceInMiles)\n",
    "    nodes = get_updated_df(lat, lon, nodes_df)\n",
    "    edges = get_updated_edges(nodes, edges_df)\n",
    "    meters_per_minute = average_speed * 1000 / 60 # km per hour to m per minute\n",
    "    edges['time'] = edges['length'] / meters_per_minute\n",
    "    point_of_interest = get_nearest_node(nodes, point=(point_lat,point_lon), x='x', y='y', osmid='vertex')\n",
    "    shortest_paths = get_shortest_paths(edges, point_of_interest)\n",
    "    results = cudf.merge(shortest_paths, nodes[['vertex', 'y', 'x']], on='vertex', how='inner')\n",
    "    polygons = get_polygons_for_travel_time(results, trip_times)\n",
    "    del results, shortest_paths, edges, nodes\n",
    "    return polygons, delayed(query_census_dataset)(polygons, census_data).compute()"
   ]
  },
  {
   "cell_type": "code",
   "execution_count": 9,
   "metadata": {},
   "outputs": [],
   "source": [
    "%load_ext line_profiler"
   ]
  },
  {
   "cell_type": "code",
   "execution_count": null,
   "metadata": {},
   "outputs": [],
   "source": [
    "%lprun -f get_data get_data(census_data.head(300_000))"
   ]
  },
  {
   "cell_type": "markdown",
   "metadata": {},
   "source": [
    "## Dash App"
   ]
  },
  {
   "cell_type": "code",
   "execution_count": null,
   "metadata": {},
   "outputs": [],
   "source": [
    "available_indicators = [25,35,45,60]\n",
    "ns = Namespace(\"dlx\", \"choropleth\")\n",
    "ns_scatter = Namespace(\"dlx\", \"scatter\")\n",
    "classes = [0,1,2,3,4,5]\n",
    "colorscale = ['#FFEDA0', '#FED976', '#FEB24C', '#FD8D3C', '#FC4E2A', '#E31A1C']\n",
    "style = dict(weight=2, opacity=1, color='red', dashArray='3', fillOpacity=0.2)\n",
    "\n",
    "minmax = dict(min=0, max=10)\n",
    "\n",
    "geojson = dl.GeoJSON(id=\"scatter\",data=get_data(census_data.head()),format=\"geojson\",\n",
    "                     zoomToBounds=True,  # when true, zooms to bounds when data changes\n",
    "                     cluster=True,  # when true, data are clustered\n",
    "                     clusterToLayer=ns_scatter(\"clusterToLayer\"),  # how to draw clusters\n",
    "                     zoomToBoundsOnClick=True,  # when true, zooms to bounds of feature (e.g. cluster) on click\n",
    "                     options=dict(pointToLayer=ns_scatter(\"pointToLayer\")),  # how to draw points\n",
    "                     superClusterOptions=dict(radius=150),  # adjust cluster size\n",
    "                     hideout=dict(colorscale=colorscale, colorProp=\"income\", **minmax)\n",
    "                     )\n",
    "chroma = \"https://cdnjs.cloudflare.com/ajax/libs/chroma-js/2.1.0/chroma.min.js\"\n",
    "\n",
    "app = JupyterDash(__name__,external_scripts=[chroma],)\n",
    "app.layout = html.Div([\n",
    "    dl.Map([\n",
    "           dl.TileLayer(), dl.LayerGroup(id=\"layer\"),\n",
    "           dl.GeoJSON(id='polygons', options=dict(style=ns(\"style\")), hideout=dict(colorscale=colorscale, classes=classes, style=style, colorProp=\"index\"),),\n",
    "           dl.GeoJSON(id=\"scatter\",data=get_data(census_data.head()),format=\"geojson\",\n",
    "                     zoomToBounds=True,  # when true, zooms to bounds when data changes\n",
    "                     cluster=True,  # when true, data are clustered\n",
    "                     clusterToLayer=ns_scatter(\"clusterToLayer\"),  # how to draw clusters\n",
    "                     zoomToBoundsOnClick=True,  # when true, zooms to bounds of feature (e.g. cluster) on click\n",
    "                     options=dict(pointToLayer=ns_scatter(\"pointToLayer\")),  # how to draw points\n",
    "                     superClusterOptions=dict(radius=150),  # adjust cluster size\n",
    "                     hideout=dict(colorscale=colorscale, colorProp=\"income\", **minmax)\n",
    "                     ),\n",
    "           ],\n",
    "           id=\"map\", zoom=2, center=(39, -100)\n",
    "    ),\n",
    "    html.Div([dcc.Dropdown(\n",
    "                id='average-speed',\n",
    "                options=[{'label': i, 'value': i} for i in available_indicators],\n",
    "                value=35\n",
    "    )], style={\"position\": \"relative\", \"bottom\": \"80px\", \"left\": \"10px\", \"z-index\": \"1000\", \"width\": \"200px\"}),\n",
    "    \n",
    "], style={'width': '100%', 'height': '50vh', 'margin': \"auto\", \"display\": \"block\", \"position\": \"relative\"})\n",
    "\n",
    "#  \n",
    "@app.callback([Output(\"layer\", \"children\"),Output(\"polygons\", \"data\"), Output(\"scatter\", \"data\")], [Input(\"map\", \"click_lat_lng\"), Input('average-speed', 'value'),])\n",
    "def map_click(click_lat_lng, average_speed):\n",
    "    if click_lat_lng is not None:\n",
    "        lat, long = click_lat_lng\n",
    "        polygons, df = get_nearest_polygons_from_selected_point(lat, long, average_speed)\n",
    "        d = gpd.geodataframe.from_shapely(polygons)\n",
    "        polygon = gpd.GeoDataFrame(index=[0, 1,2, 3, 4], geometry=d).reset_index()\n",
    "        return dl.Marker(position=click_lat_lng, children=dl.Tooltip(\"({:.3f}, {:.3f})\".format(*click_lat_lng))),json.loads(polygon.to_json()), get_data(df.head(200_000))\n",
    "    return None, None, None\n",
    "\n",
    "app.run_server()"
   ]
  },
  {
   "cell_type": "code",
   "execution_count": 4,
   "metadata": {},
   "outputs": [
    {
     "data": {
      "text/plain": [
       "[0]"
      ]
     },
     "execution_count": 4,
     "metadata": {},
     "output_type": "execute_result"
    }
   ],
   "source": [
    "[i for i in range(1)]"
   ]
  },
  {
   "cell_type": "code",
   "execution_count": null,
   "metadata": {},
   "outputs": [],
   "source": []
  },
  {
   "cell_type": "code",
   "execution_count": null,
   "metadata": {},
   "outputs": [],
   "source": []
  }
 ],
 "metadata": {
  "kernelspec": {
   "display_name": "Python 3",
   "language": "python",
   "name": "python3"
  },
  "language_info": {
   "codemirror_mode": {
    "name": "ipython",
    "version": 3
   },
   "file_extension": ".py",
   "mimetype": "text/x-python",
   "name": "python",
   "nbconvert_exporter": "python",
   "pygments_lexer": "ipython3",
   "version": "3.8.6"
  }
 },
 "nbformat": 4,
 "nbformat_minor": 4
}
